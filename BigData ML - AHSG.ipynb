{
 "cells": [
  {
   "cell_type": "code",
   "execution_count": 3,
   "metadata": {},
   "outputs": [],
   "source": [
    "from pyspark.sql import SparkSession\n",
    "from pyspark.sql.types import *\n",
    "from pyspark.ml import *\n",
    "import pyspark.sql.functions as f\n",
    "from pyspark.ml.feature import VectorAssembler\n",
    "from datetime import timedelta\n",
    "from pyspark.sql.window import Window\n",
    "import numpy as np"
   ]
  },
  {
   "cell_type": "markdown",
   "metadata": {},
   "source": [
    "# Import all the data"
   ]
  },
  {
   "cell_type": "markdown",
   "metadata": {},
   "source": [
    "First let's set up the spark app"
   ]
  },
  {
   "cell_type": "code",
   "execution_count": 4,
   "metadata": {},
   "outputs": [],
   "source": [
    "spark_application_name = \"Projet_AHSG\"\n",
    "spark = (SparkSession.builder.appName(spark_application_name).getOrCreate())\n",
    "col = [StructField(\"Date\",TimestampType()), StructField(\"High\",FloatType()), StructField(\"Low\",FloatType()), StructField(\"Open\",FloatType()), StructField(\"Close\",FloatType()), StructField(\"Volume\",FloatType()), StructField(\"Adj Close\",FloatType()), StructField(\"company_name\",StringType())]\n",
    "schema = StructType(col)"
   ]
  },
  {
   "cell_type": "markdown",
   "metadata": {},
   "source": [
    "We chose to use the Apple dataset"
   ]
  },
  {
   "cell_type": "code",
   "execution_count": 5,
   "metadata": {},
   "outputs": [
    {
     "name": "stderr",
     "output_type": "stream",
     "text": [
      "[Stage 0:>                                                          (0 + 1) / 1]\r"
     ]
    },
    {
     "name": "stdout",
     "output_type": "stream",
     "text": [
      "+-------------------+-------+-------+-------+-------+----------+---------+------------+\n",
      "|               Date|   High|    Low|   Open|  Close|    Volume|Adj Close|company_name|\n",
      "+-------------------+-------+-------+-------+-------+----------+---------+------------+\n",
      "|2017-01-03 00:00:00|29.0825|  28.69|  28.95|29.0375|1.151276E8| 27.27764|       APPLE|\n",
      "|2017-01-04 00:00:00|29.1275|28.9375|28.9625| 29.005| 8.44724E7|27.247108|       APPLE|\n",
      "|2017-01-05 00:00:00| 29.215|28.9525|  28.98|29.1525| 8.87744E7|27.385668|       APPLE|\n",
      "|2017-01-06 00:00:00|  29.54|29.1175| 29.195|29.4775|1.270076E8|27.690971|       APPLE|\n",
      "|2017-01-09 00:00:00|29.8575| 29.485|29.4875|29.7475|1.342476E8|27.944603|       APPLE|\n",
      "|2017-01-10 00:00:00| 29.845| 29.575|29.6925|29.7775| 9.78484E7|27.972786|       APPLE|\n",
      "|2017-01-11 00:00:00|29.9825|  29.65| 29.685|29.9375|1.103544E8|28.123089|       APPLE|\n",
      "|2017-01-12 00:00:00| 29.825|29.5525| 29.725|29.8125|1.083448E8|28.005665|       APPLE|\n",
      "|2017-01-13 00:00:00| 29.905|29.7025|29.7775|  29.76|1.044476E8| 27.95635|       APPLE|\n",
      "|2017-01-17 00:00:00|  30.06| 29.555| 29.585|   30.0|1.377592E8|  28.1818|       APPLE|\n",
      "|2017-01-18 00:00:00| 30.125|29.9275|   30.0|29.9975|  9.4852E7|28.179457|       APPLE|\n",
      "|2017-01-19 00:00:00|30.0225|29.8425|  29.85| 29.945|1.023892E8|28.130133|       APPLE|\n",
      "|2017-01-20 00:00:00|30.1125|29.9325|30.1125|   30.0|1.303916E8|  28.1818|       APPLE|\n",
      "|2017-01-23 00:00:00|30.2025|29.9425|   30.0|  30.02| 8.82008E7| 28.20059|       APPLE|\n",
      "|2017-01-24 00:00:00| 30.025| 29.875|29.8875|29.9925|  9.2844E7|28.174757|       APPLE|\n",
      "|2017-01-25 00:00:00| 30.525|  30.07| 30.105|  30.47|1.295104E8|28.623314|       APPLE|\n",
      "|2017-01-26 00:00:00|  30.61|   30.4|30.4175| 30.485|1.053504E8|28.637407|       APPLE|\n",
      "|2017-01-27 00:00:00|30.5875|   30.4| 30.535|30.4875| 8.22516E7|28.639755|       APPLE|\n",
      "|2017-01-30 00:00:00|30.4075| 30.165|30.2325|30.4075|  1.2151E8|28.564606|       APPLE|\n",
      "|2017-01-31 00:00:00|30.3475| 30.155|30.2875|30.3375| 1.96804E8|28.498844|       APPLE|\n",
      "+-------------------+-------+-------+-------+-------+----------+---------+------------+\n",
      "only showing top 20 rows\n",
      "\n"
     ]
    },
    {
     "name": "stderr",
     "output_type": "stream",
     "text": [
      "                                                                                \r"
     ]
    }
   ],
   "source": [
    "apple = spark.read.schema(schema).csv(\"stocks_data/APPLE.csv\", header=True, sep=',')\n",
    "\n",
    "apple.show()"
   ]
  },
  {
   "cell_type": "markdown",
   "metadata": {},
   "source": [
    "# Cleaning the data"
   ]
  },
  {
   "cell_type": "markdown",
   "metadata": {},
   "source": [
    "We are going to keep only certain columns nd add a new column with the Adj Close of the next day"
   ]
  },
  {
   "cell_type": "code",
   "execution_count": 6,
   "metadata": {},
   "outputs": [
    {
     "name": "stderr",
     "output_type": "stream",
     "text": [
      "22/06/20 15:38:20 WARN WindowExec: No Partition Defined for Window operation! Moving all data to a single partition, this can cause serious performance degradation.\n",
      "22/06/20 15:38:20 WARN WindowExec: No Partition Defined for Window operation! Moving all data to a single partition, this can cause serious performance degradation.\n",
      "22/06/20 15:38:21 WARN WindowExec: No Partition Defined for Window operation! Moving all data to a single partition, this can cause serious performance degradation.\n"
     ]
    },
    {
     "name": "stdout",
     "output_type": "stream",
     "text": [
      "+-------------------+-------+-------+----------+---------+--------------------+\n",
      "|               Date|   Open|  Close|    Volume|Adj Close|Prediction Adj Close|\n",
      "+-------------------+-------+-------+----------+---------+--------------------+\n",
      "|2017-01-03 00:00:00|  28.95|29.0375|1.151276E8| 27.27764|           27.247108|\n",
      "|2017-01-04 00:00:00|28.9625| 29.005| 8.44724E7|27.247108|           27.385668|\n",
      "|2017-01-05 00:00:00|  28.98|29.1525| 8.87744E7|27.385668|           27.690971|\n",
      "|2017-01-06 00:00:00| 29.195|29.4775|1.270076E8|27.690971|           27.944603|\n",
      "|2017-01-09 00:00:00|29.4875|29.7475|1.342476E8|27.944603|           27.972786|\n",
      "|2017-01-10 00:00:00|29.6925|29.7775| 9.78484E7|27.972786|           28.123089|\n",
      "|2017-01-11 00:00:00| 29.685|29.9375|1.103544E8|28.123089|           28.005665|\n",
      "|2017-01-12 00:00:00| 29.725|29.8125|1.083448E8|28.005665|            27.95635|\n",
      "|2017-01-13 00:00:00|29.7775|  29.76|1.044476E8| 27.95635|             28.1818|\n",
      "|2017-01-17 00:00:00| 29.585|   30.0|1.377592E8|  28.1818|           28.179457|\n",
      "|2017-01-18 00:00:00|   30.0|29.9975|  9.4852E7|28.179457|           28.130133|\n",
      "|2017-01-19 00:00:00|  29.85| 29.945|1.023892E8|28.130133|             28.1818|\n",
      "|2017-01-20 00:00:00|30.1125|   30.0|1.303916E8|  28.1818|            28.20059|\n",
      "|2017-01-23 00:00:00|   30.0|  30.02| 8.82008E7| 28.20059|           28.174757|\n",
      "|2017-01-24 00:00:00|29.8875|29.9925|  9.2844E7|28.174757|           28.623314|\n",
      "|2017-01-25 00:00:00| 30.105|  30.47|1.295104E8|28.623314|           28.637407|\n",
      "|2017-01-26 00:00:00|30.4175| 30.485|1.053504E8|28.637407|           28.639755|\n",
      "|2017-01-27 00:00:00| 30.535|30.4875| 8.22516E7|28.639755|           28.564606|\n",
      "|2017-01-30 00:00:00|30.2325|30.4075|  1.2151E8|28.564606|           28.498844|\n",
      "|2017-01-31 00:00:00|30.2875|30.3375| 1.96804E8|28.498844|            30.23672|\n",
      "+-------------------+-------+-------+----------+---------+--------------------+\n",
      "only showing top 20 rows\n",
      "\n"
     ]
    }
   ],
   "source": [
    "columnsToKeep = ['Date', 'Open', 'Close', 'Volume', 'Adj Close']\n",
    "\n",
    "apple = apple.select(columnsToKeep)\n",
    "apple.cache().count()\n",
    "\n",
    "w = Window().partitionBy().orderBy(f.col(\"Date\"))\n",
    "apple = apple.select(\"*\", f.lag(\"Adj Close\", offset=-1).over(w).alias(\"Prediction Adj Close\")).na.drop()\n",
    "\n",
    "apple.show()"
   ]
  },
  {
   "cell_type": "markdown",
   "metadata": {},
   "source": [
    "We check for missing data"
   ]
  },
  {
   "cell_type": "code",
   "execution_count": 7,
   "metadata": {},
   "outputs": [
    {
     "name": "stderr",
     "output_type": "stream",
     "text": [
      "22/06/20 15:38:23 WARN WindowExec: No Partition Defined for Window operation! Moving all data to a single partition, this can cause serious performance degradation.\n",
      "22/06/20 15:38:23 WARN WindowExec: No Partition Defined for Window operation! Moving all data to a single partition, this can cause serious performance degradation.\n"
     ]
    },
    {
     "name": "stdout",
     "output_type": "stream",
     "text": [
      "+----+----+-----+------+---------+--------------------+\n",
      "|Date|Open|Close|Volume|Adj Close|Prediction Adj Close|\n",
      "+----+----+-----+------+---------+--------------------+\n",
      "|   0|   0|    0|     0|        0|                   0|\n",
      "+----+----+-----+------+---------+--------------------+\n",
      "\n"
     ]
    }
   ],
   "source": [
    "apple.select([f.count(f.when(f.isnull(c), c)).alias(c) for c in apple.columns]).show()"
   ]
  },
  {
   "cell_type": "markdown",
   "metadata": {},
   "source": [
    "We don't have any missing data so we can move on to our models"
   ]
  },
  {
   "cell_type": "markdown",
   "metadata": {},
   "source": [
    "# Linear Regression"
   ]
  },
  {
   "cell_type": "markdown",
   "metadata": {},
   "source": [
    "We need to split our dataset to 2 datasets: train (80%) and test (20%)."
   ]
  },
  {
   "cell_type": "code",
   "execution_count": 8,
   "metadata": {},
   "outputs": [],
   "source": [
    "trainDF, testDF = apple.randomSplit([.8, .2], seed=42)"
   ]
  },
  {
   "cell_type": "markdown",
   "metadata": {},
   "source": [
    "## Creation of the VectorAssembler"
   ]
  },
  {
   "cell_type": "markdown",
   "metadata": {},
   "source": [
    "First we need to tranform our data into a VectorAssembler to use the Linear Regression model"
   ]
  },
  {
   "cell_type": "code",
   "execution_count": 9,
   "metadata": {},
   "outputs": [
    {
     "name": "stderr",
     "output_type": "stream",
     "text": [
      "22/06/20 15:38:24 WARN WindowExec: No Partition Defined for Window operation! Moving all data to a single partition, this can cause serious performance degradation.\n",
      "22/06/20 15:38:24 WARN WindowExec: No Partition Defined for Window operation! Moving all data to a single partition, this can cause serious performance degradation.\n",
      "22/06/20 15:38:25 WARN WindowExec: No Partition Defined for Window operation! Moving all data to a single partition, this can cause serious performance degradation.\n"
     ]
    },
    {
     "name": "stdout",
     "output_type": "stream",
     "text": [
      "+--------------------+\n",
      "|            features|\n",
      "+--------------------+\n",
      "|[28.9500007629394...|\n",
      "|[28.9624996185302...|\n",
      "|[29.1949996948242...|\n",
      "|[29.4874992370605...|\n",
      "|[29.6924991607666...|\n",
      "|[29.7250003814697...|\n",
      "|[29.5849990844726...|\n",
      "|[30.0,29.99749946...|\n",
      "|[29.8500003814697...|\n",
      "|[30.1124992370605...|\n",
      "+--------------------+\n",
      "only showing top 10 rows\n",
      "\n"
     ]
    }
   ],
   "source": [
    "vecAssembler = VectorAssembler(inputCols=['Open', 'Close', 'Volume', 'Adj Close'], outputCol=\"features\")\n",
    "\n",
    "vecTrainDF = vecAssembler.transform(trainDF)\n",
    "\n",
    "vecTrainDF.select(\"features\").show(10)"
   ]
  },
  {
   "cell_type": "markdown",
   "metadata": {},
   "source": [
    "Now we can create our model"
   ]
  },
  {
   "cell_type": "code",
   "execution_count": 10,
   "metadata": {},
   "outputs": [
    {
     "name": "stderr",
     "output_type": "stream",
     "text": [
      "22/06/20 15:38:26 WARN WindowExec: No Partition Defined for Window operation! Moving all data to a single partition, this can cause serious performance degradation.\n",
      "22/06/20 15:38:26 WARN WindowExec: No Partition Defined for Window operation! Moving all data to a single partition, this can cause serious performance degradation.\n",
      "22/06/20 15:38:26 WARN WindowExec: No Partition Defined for Window operation! Moving all data to a single partition, this can cause serious performance degradation.\n",
      "22/06/20 15:38:27 WARN WindowExec: No Partition Defined for Window operation! Moving all data to a single partition, this can cause serious performance degradation.\n",
      "22/06/20 15:38:27 WARN WindowExec: No Partition Defined for Window operation! Moving all data to a single partition, this can cause serious performance degradation.\n",
      "22/06/20 15:38:27 WARN WindowExec: No Partition Defined for Window operation! Moving all data to a single partition, this can cause serious performance degradation.\n",
      "22/06/20 15:38:27 WARN Instrumentation: [ec6b86c1] regParam is zero, which might cause numerical instability and overfitting.\n",
      "22/06/20 15:38:27 WARN WindowExec: No Partition Defined for Window operation! Moving all data to a single partition, this can cause serious performance degradation.\n",
      "22/06/20 15:38:27 WARN WindowExec: No Partition Defined for Window operation! Moving all data to a single partition, this can cause serious performance degradation.\n",
      "22/06/20 15:38:27 WARN WindowExec: No Partition Defined for Window operation! Moving all data to a single partition, this can cause serious performance degradation.\n"
     ]
    }
   ],
   "source": [
    "from pyspark.ml.regression import LinearRegression\n",
    "\n",
    "lr = LinearRegression(featuresCol=\"features\", labelCol=\"Prediction Adj Close\")\n",
    "lrModel = lr.fit(vecTrainDF)"
   ]
  },
  {
   "cell_type": "markdown",
   "metadata": {},
   "source": [
    "## Inspect the model"
   ]
  },
  {
   "cell_type": "markdown",
   "metadata": {},
   "source": [
    "Here are the coefficients of our model"
   ]
  },
  {
   "cell_type": "code",
   "execution_count": 11,
   "metadata": {},
   "outputs": [
    {
     "name": "stdout",
     "output_type": "stream",
     "text": [
      "The coefficient for Open is -0.030349073227634984\n",
      "The coefficient for Close is -0.2995791658656899\n",
      "The coefficient for Volume is -1.776606778327005e-10\n",
      "The coefficient for Adj Close is 1.3261763243384581\n",
      "The intercept value of the model is 0.7839625536161241\n"
     ]
    }
   ],
   "source": [
    "for c, name in zip(lrModel.coefficients, ['Open', 'Close', 'Volume', 'Adj Close']):\n",
    "    print(f\"The coefficient for {name} is {c}\")\n",
    "\n",
    "print(f\"The intercept value of the model is {lrModel.intercept}\")"
   ]
  },
  {
   "cell_type": "markdown",
   "metadata": {},
   "source": [
    "Let's take a look at the Root Mean Square Error"
   ]
  },
  {
   "cell_type": "code",
   "execution_count": 12,
   "metadata": {},
   "outputs": [
    {
     "name": "stdout",
     "output_type": "stream",
     "text": [
      "The Root Mean Square Error is  1.3645789823437324\n"
     ]
    }
   ],
   "source": [
    "print(\"The Root Mean Square Error is \", lrModel.summary.rootMeanSquaredError)"
   ]
  },
  {
   "cell_type": "markdown",
   "metadata": {},
   "source": [
    "## Pipeline"
   ]
  },
  {
   "cell_type": "markdown",
   "metadata": {},
   "source": [
    "We create a pipeline with our VectorAssembler and our Linear Regression model"
   ]
  },
  {
   "cell_type": "code",
   "execution_count": 13,
   "metadata": {},
   "outputs": [
    {
     "name": "stderr",
     "output_type": "stream",
     "text": [
      "22/06/20 15:38:29 WARN WindowExec: No Partition Defined for Window operation! Moving all data to a single partition, this can cause serious performance degradation.\n",
      "22/06/20 15:38:29 WARN WindowExec: No Partition Defined for Window operation! Moving all data to a single partition, this can cause serious performance degradation.\n",
      "22/06/20 15:38:29 WARN WindowExec: No Partition Defined for Window operation! Moving all data to a single partition, this can cause serious performance degradation.\n",
      "22/06/20 15:38:29 WARN WindowExec: No Partition Defined for Window operation! Moving all data to a single partition, this can cause serious performance degradation.\n",
      "22/06/20 15:38:29 WARN WindowExec: No Partition Defined for Window operation! Moving all data to a single partition, this can cause serious performance degradation.\n",
      "22/06/20 15:38:29 WARN WindowExec: No Partition Defined for Window operation! Moving all data to a single partition, this can cause serious performance degradation.\n",
      "22/06/20 15:38:29 WARN Instrumentation: [fd12d8a9] regParam is zero, which might cause numerical instability and overfitting.\n",
      "22/06/20 15:38:30 WARN WindowExec: No Partition Defined for Window operation! Moving all data to a single partition, this can cause serious performance degradation.\n",
      "22/06/20 15:38:30 WARN WindowExec: No Partition Defined for Window operation! Moving all data to a single partition, this can cause serious performance degradation.\n",
      "22/06/20 15:38:30 WARN WindowExec: No Partition Defined for Window operation! Moving all data to a single partition, this can cause serious performance degradation.\n"
     ]
    }
   ],
   "source": [
    "from pyspark.ml import Pipeline\n",
    "\n",
    "pipeline = Pipeline(stages=[vecAssembler, lr])\n",
    "pipelineModel = pipeline.fit(trainDF)"
   ]
  },
  {
   "cell_type": "markdown",
   "metadata": {},
   "source": [
    "Now we are going to observe the predictions."
   ]
  },
  {
   "cell_type": "code",
   "execution_count": 14,
   "metadata": {},
   "outputs": [
    {
     "name": "stderr",
     "output_type": "stream",
     "text": [
      "22/06/20 15:38:31 WARN WindowExec: No Partition Defined for Window operation! Moving all data to a single partition, this can cause serious performance degradation.\n",
      "22/06/20 15:38:31 WARN WindowExec: No Partition Defined for Window operation! Moving all data to a single partition, this can cause serious performance degradation.\n",
      "22/06/20 15:38:31 WARN WindowExec: No Partition Defined for Window operation! Moving all data to a single partition, this can cause serious performance degradation.\n"
     ]
    },
    {
     "name": "stdout",
     "output_type": "stream",
     "text": [
      "+-------------------+-------+-------+---------+--------------------+------------------+\n",
      "|               Date|   Open|  Close|Adj Close|Prediction Adj Close|        prediction|\n",
      "+-------------------+-------+-------+---------+--------------------+------------------+\n",
      "|2017-01-05 00:00:00|  28.98|29.1525|27.385668|           27.690971|27.473417290438125|\n",
      "|2017-01-11 00:00:00| 29.685|29.9375|28.123089|           28.005665|28.190967997910864|\n",
      "|2017-01-13 00:00:00|29.7775|  29.76| 27.95635|             28.1818|28.021260662770693|\n",
      "|2017-01-23 00:00:00|   30.0|  30.02| 28.20059|           28.174757|28.263408814091097|\n",
      "|2017-01-31 00:00:00|30.2875|30.3375|28.498844|            30.23672|28.535810202849714|\n",
      "|2017-02-06 00:00:00|32.2825|32.5725|30.598392|             30.8896|30.605962518115074|\n",
      "|2017-02-14 00:00:00|33.3675| 33.755|31.846703|           31.962276| 31.86972578691473|\n",
      "|2017-02-23 00:00:00| 34.345|34.1325| 32.20287|           32.233524| 32.20814782057938|\n",
      "|2017-03-09 00:00:00| 34.685|  34.67| 32.70998|           32.818478| 32.70835190632617|\n",
      "|2017-03-10 00:00:00|34.8125| 34.785|32.818478|           32.832623| 32.81572454413764|\n",
      "+-------------------+-------+-------+---------+--------------------+------------------+\n",
      "only showing top 10 rows\n",
      "\n"
     ]
    }
   ],
   "source": [
    "predDF = pipelineModel.transform(testDF)\n",
    "\n",
    "predDF.select(\"Date\", \"Open\", \"Close\", \"Adj Close\", \"Prediction Adj Close\", \"prediction\").show(10)"
   ]
  },
  {
   "cell_type": "markdown",
   "metadata": {},
   "source": [
    "Let's see the average gap between the real prediction of Adj Close and the prediction given by our model"
   ]
  },
  {
   "cell_type": "code",
   "execution_count": 15,
   "metadata": {},
   "outputs": [
    {
     "name": "stderr",
     "output_type": "stream",
     "text": [
      "22/06/20 15:38:31 WARN WindowExec: No Partition Defined for Window operation! Moving all data to a single partition, this can cause serious performance degradation.\n",
      "22/06/20 15:38:32 WARN WindowExec: No Partition Defined for Window operation! Moving all data to a single partition, this can cause serious performance degradation.\n",
      "22/06/20 15:38:32 WARN WindowExec: No Partition Defined for Window operation! Moving all data to a single partition, this can cause serious performance degradation.\n",
      "22/06/20 15:38:32 WARN WindowExec: No Partition Defined for Window operation! Moving all data to a single partition, this can cause serious performance degradation.\n",
      "22/06/20 15:38:33 WARN WindowExec: No Partition Defined for Window operation! Moving all data to a single partition, this can cause serious performance degradation.\n",
      "22/06/20 15:38:33 WARN WindowExec: No Partition Defined for Window operation! Moving all data to a single partition, this can cause serious performance degradation.\n"
     ]
    },
    {
     "name": "stdout",
     "output_type": "stream",
     "text": [
      "The average difference between the real value and the prediction is  0.02203868434511571\n"
     ]
    }
   ],
   "source": [
    "prediction_adj_close_sum = predDF.select(f.sum('Prediction Adj Close')).first()[0]\n",
    "prediction_sum = predDF.select(f.sum('prediction')).first()[0]\n",
    "print(\"The average difference between the real value and the prediction is \", (prediction_sum - prediction_adj_close_sum) / predDF.count())"
   ]
  },
  {
   "cell_type": "markdown",
   "metadata": {},
   "source": [
    "\n",
    "# Baseline Model"
   ]
  },
  {
   "cell_type": "markdown",
   "metadata": {},
   "source": [
    "Now that we've seen a Linear Regression model, let's use a Baseline Model: the Regression Evaluator"
   ]
  },
  {
   "cell_type": "code",
   "execution_count": 16,
   "metadata": {},
   "outputs": [
    {
     "name": "stderr",
     "output_type": "stream",
     "text": [
      "22/06/20 15:38:33 WARN WindowExec: No Partition Defined for Window operation! Moving all data to a single partition, this can cause serious performance degradation.\n",
      "22/06/20 15:38:33 WARN WindowExec: No Partition Defined for Window operation! Moving all data to a single partition, this can cause serious performance degradation.\n"
     ]
    },
    {
     "name": "stdout",
     "output_type": "stream",
     "text": [
      "The average Adj Close is  55.41336029587807\n"
     ]
    }
   ],
   "source": [
    "from pyspark.ml.evaluation import RegressionEvaluator\n",
    "\n",
    "avgAdjClose = trainDF.select(f.avg(\"Prediction Adj Close\")).first()[0]\n",
    "print(\"The average Adj Close is \", avgAdjClose)\n",
    "predDF = testDF.withColumn(\"avgPrediction\", f.lit(avgAdjClose))\n",
    "\n",
    "regressionMeanEvaluator = RegressionEvaluator(predictionCol=\"avgPrediction\", labelCol=\"Prediction Adj Close\", metricName=\"rmse\")"
   ]
  },
  {
   "cell_type": "markdown",
   "metadata": {},
   "source": [
    "Let's observe the RMSE for the Baseline Model"
   ]
  },
  {
   "cell_type": "code",
   "execution_count": 17,
   "metadata": {},
   "outputs": [
    {
     "name": "stderr",
     "output_type": "stream",
     "text": [
      "22/06/20 15:38:34 WARN WindowExec: No Partition Defined for Window operation! Moving all data to a single partition, this can cause serious performance degradation.\n",
      "22/06/20 15:38:34 WARN WindowExec: No Partition Defined for Window operation! Moving all data to a single partition, this can cause serious performance degradation.\n",
      "22/06/20 15:38:34 WARN WindowExec: No Partition Defined for Window operation! Moving all data to a single partition, this can cause serious performance degradation.\n"
     ]
    },
    {
     "name": "stdout",
     "output_type": "stream",
     "text": [
      "The RMSE for predicting the average prediction adj close is: 23.58\n"
     ]
    }
   ],
   "source": [
    "print(f\"The RMSE for predicting the average prediction adj close is: {regressionMeanEvaluator.evaluate(predDF):.2f}\")"
   ]
  }
 ],
 "metadata": {
  "kernelspec": {
   "display_name": "Python 3.10.5 64-bit",
   "language": "python",
   "name": "python3"
  },
  "language_info": {
   "codemirror_mode": {
    "name": "ipython",
    "version": 3
   },
   "file_extension": ".py",
   "mimetype": "text/x-python",
   "name": "python",
   "nbconvert_exporter": "python",
   "pygments_lexer": "ipython3",
   "version": "3.10.5"
  },
  "orig_nbformat": 4,
  "vscode": {
   "interpreter": {
    "hash": "e7370f93d1d0cde622a1f8e1c04877d8463912d04d973331ad4851f04de6915a"
   }
  }
 },
 "nbformat": 4,
 "nbformat_minor": 2
}
