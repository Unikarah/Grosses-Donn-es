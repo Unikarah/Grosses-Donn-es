{
 "cells": [
  {
   "cell_type": "code",
   "execution_count": 12,
   "metadata": {},
   "outputs": [],
   "source": [
    "from pyspark.sql import SparkSession\n",
    "from pyspark.sql.types import *\n",
    "from pyspark.ml import *\n",
    "import pyspark.sql.functions as f\n",
    "from pyspark.ml.stat import Correlation\n",
    "from pyspark.ml.feature import VectorAssembler\n",
    "import matplotlib.pyplot as plt\n",
    "from datetime import timedelta\n",
    "from pyspark.sql.window import Window\n",
    "import numpy as np"
   ]
  },
  {
   "cell_type": "markdown",
   "metadata": {},
   "source": [
    "# Import all the data"
   ]
  },
  {
   "cell_type": "code",
   "execution_count": 13,
   "metadata": {},
   "outputs": [],
   "source": [
    "spark_application_name = \"Projet_AHSG\"\n",
    "spark = (SparkSession.builder.appName(spark_application_name).getOrCreate())\n",
    "col = [StructField(\"Date\",TimestampType()), StructField(\"High\",FloatType()), StructField(\"Low\",FloatType()), StructField(\"Open\",FloatType()), StructField(\"Close\",FloatType()), StructField(\"Volume\",FloatType()), StructField(\"Adj Close\",FloatType()), StructField(\"company_name\",StringType())]\n",
    "schema = StructType(col)"
   ]
  },
  {
   "cell_type": "code",
   "execution_count": 14,
   "metadata": {},
   "outputs": [
    {
     "name": "stdout",
     "output_type": "stream",
     "text": [
      "+-------------------+------+------+------+------+---------+---------+------------+\n",
      "|               Date|  High|   Low|  Open| Close|   Volume|Adj Close|company_name|\n",
      "+-------------------+------+------+------+------+---------+---------+------------+\n",
      "|2017-01-03 00:00:00|44.066|42.192|42.972|43.398|2.96165E7|   43.398|       TESLA|\n",
      "|2017-01-04 00:00:00|  45.6|42.862| 42.95|45.398|5.60675E7|   45.398|       TESLA|\n",
      "|2017-01-05 00:00:00|45.496| 44.39|45.284| 45.35|2.95585E7|    45.35|       TESLA|\n",
      "|2017-01-06 00:00:00|46.062| 45.09|45.386|45.802|2.76395E7|   45.802|       TESLA|\n",
      "|2017-01-09 00:00:00|46.384|  45.6|45.794|46.256|1.98975E7|   46.256|       TESLA|\n",
      "|2017-01-10 00:00:00|  46.4|45.378|  46.4|45.974|   1.83E7|   45.974|       TESLA|\n",
      "|2017-01-11 00:00:00|45.996|45.336|45.814|45.946| 1.8254E7|   45.946|       TESLA|\n",
      "|2017-01-12 00:00:00| 46.14|45.116|45.812|45.918| 1.8951E7|   45.918|       TESLA|\n",
      "|2017-01-13 00:00:00| 47.57|45.918|  46.0| 47.55| 3.0465E7|    47.55|       TESLA|\n",
      "|2017-01-17 00:00:00|47.992|46.874| 47.34|47.116|2.30875E7|   47.116|       TESLA|\n",
      "|2017-01-18 00:00:00|47.942|47.116| 47.33|47.672| 1.8845E7|   47.672|       TESLA|\n",
      "|2017-01-19 00:00:00|49.736| 48.15| 49.45|48.752|3.86615E7|   48.752|       TESLA|\n",
      "|2017-01-20 00:00:00|  49.2|48.602|49.092|48.946|2.10215E7|   48.946|       TESLA|\n",
      "|2017-01-23 00:00:00|50.178|  49.1| 49.17|49.784|3.13145E7|   49.784|       TESLA|\n",
      "|2017-01-24 00:00:00| 50.96| 49.93|  50.0|50.922|2.48275E7|   50.922|       TESLA|\n",
      "|2017-01-25 00:00:00|51.692| 50.36|51.462|50.894| 2.5713E7|   50.894|       TESLA|\n",
      "|2017-01-26 00:00:00|51.148| 50.15|50.858|50.502|1.57605E7|   50.502|       TESLA|\n",
      "|2017-01-27 00:00:00|  50.6|49.704|50.276| 50.59|1.58315E7|    50.59|       TESLA|\n",
      "|2017-01-30 00:00:00|51.058| 49.42|50.506|50.126|1.90055E7|   50.126|       TESLA|\n",
      "|2017-01-31 00:00:00|51.178| 49.54|49.848|50.386|2.05805E7|   50.386|       TESLA|\n",
      "+-------------------+------+------+------+------+---------+---------+------------+\n",
      "only showing top 20 rows\n",
      "\n"
     ]
    }
   ],
   "source": [
    "apple = spark.read.schema(schema).csv(\"stocks_data/APPLE.csv\", header=True, sep=',')\n",
    "apple = spark.read.schema(schema).csv(\"stocks_data/TESLA.csv\", header=True, sep=',')\n",
    "\n",
    "apple.show()"
   ]
  },
  {
   "cell_type": "markdown",
   "metadata": {},
   "source": [
    "# Cleaning the data"
   ]
  },
  {
   "cell_type": "markdown",
   "metadata": {},
   "source": [
    "We are going to keep only certain columns nd add a new column with the Adj Close of the next day"
   ]
  },
  {
   "cell_type": "code",
   "execution_count": 15,
   "metadata": {},
   "outputs": [
    {
     "name": "stderr",
     "output_type": "stream",
     "text": [
      "22/06/20 14:57:39 WARN CacheManager: Asked to cache already cached data.\n",
      "22/06/20 14:57:40 WARN WindowExec: No Partition Defined for Window operation! Moving all data to a single partition, this can cause serious performance degradation.\n",
      "22/06/20 14:57:40 WARN WindowExec: No Partition Defined for Window operation! Moving all data to a single partition, this can cause serious performance degradation.\n",
      "22/06/20 14:57:40 WARN WindowExec: No Partition Defined for Window operation! Moving all data to a single partition, this can cause serious performance degradation.\n"
     ]
    },
    {
     "name": "stdout",
     "output_type": "stream",
     "text": [
      "+-------------------+------+------+---------+---------+--------------------+\n",
      "|               Date|  Open| Close|   Volume|Adj Close|Prediction Adj Close|\n",
      "+-------------------+------+------+---------+---------+--------------------+\n",
      "|2017-01-03 00:00:00|42.972|43.398|2.96165E7|   43.398|              45.398|\n",
      "|2017-01-04 00:00:00| 42.95|45.398|5.60675E7|   45.398|               45.35|\n",
      "|2017-01-05 00:00:00|45.284| 45.35|2.95585E7|    45.35|              45.802|\n",
      "|2017-01-06 00:00:00|45.386|45.802|2.76395E7|   45.802|              46.256|\n",
      "|2017-01-09 00:00:00|45.794|46.256|1.98975E7|   46.256|              45.974|\n",
      "|2017-01-10 00:00:00|  46.4|45.974|   1.83E7|   45.974|              45.946|\n",
      "|2017-01-11 00:00:00|45.814|45.946| 1.8254E7|   45.946|              45.918|\n",
      "|2017-01-12 00:00:00|45.812|45.918| 1.8951E7|   45.918|               47.55|\n",
      "|2017-01-13 00:00:00|  46.0| 47.55| 3.0465E7|    47.55|              47.116|\n",
      "|2017-01-17 00:00:00| 47.34|47.116|2.30875E7|   47.116|              47.672|\n",
      "|2017-01-18 00:00:00| 47.33|47.672| 1.8845E7|   47.672|              48.752|\n",
      "|2017-01-19 00:00:00| 49.45|48.752|3.86615E7|   48.752|              48.946|\n",
      "|2017-01-20 00:00:00|49.092|48.946|2.10215E7|   48.946|              49.784|\n",
      "|2017-01-23 00:00:00| 49.17|49.784|3.13145E7|   49.784|              50.922|\n",
      "|2017-01-24 00:00:00|  50.0|50.922|2.48275E7|   50.922|              50.894|\n",
      "|2017-01-25 00:00:00|51.462|50.894| 2.5713E7|   50.894|              50.502|\n",
      "|2017-01-26 00:00:00|50.858|50.502|1.57605E7|   50.502|               50.59|\n",
      "|2017-01-27 00:00:00|50.276| 50.59|1.58315E7|    50.59|              50.126|\n",
      "|2017-01-30 00:00:00|50.506|50.126|1.90055E7|   50.126|              50.386|\n",
      "|2017-01-31 00:00:00|49.848|50.386|2.05805E7|   50.386|              49.848|\n",
      "+-------------------+------+------+---------+---------+--------------------+\n",
      "only showing top 20 rows\n",
      "\n"
     ]
    }
   ],
   "source": [
    "columnsToKeep = ['Date', 'Open', 'Close', 'Volume', 'Adj Close']\n",
    "\n",
    "apple = apple.select(columnsToKeep)\n",
    "apple.cache().count()\n",
    "\n",
    "w = Window().partitionBy().orderBy(f.col(\"Date\"))\n",
    "apple = apple.select(\"*\", f.lag(\"Adj Close\", offset=-1).over(w).alias(\"Prediction Adj Close\")).na.drop()\n",
    "\n",
    "apple.show()"
   ]
  },
  {
   "cell_type": "markdown",
   "metadata": {},
   "source": [
    "We check for missing data"
   ]
  },
  {
   "cell_type": "code",
   "execution_count": 16,
   "metadata": {},
   "outputs": [
    {
     "name": "stderr",
     "output_type": "stream",
     "text": [
      "22/06/20 14:57:41 WARN WindowExec: No Partition Defined for Window operation! Moving all data to a single partition, this can cause serious performance degradation.\n",
      "22/06/20 14:57:41 WARN WindowExec: No Partition Defined for Window operation! Moving all data to a single partition, this can cause serious performance degradation.\n"
     ]
    },
    {
     "name": "stdout",
     "output_type": "stream",
     "text": [
      "+----+----+-----+------+---------+--------------------+\n",
      "|Date|Open|Close|Volume|Adj Close|Prediction Adj Close|\n",
      "+----+----+-----+------+---------+--------------------+\n",
      "|   0|   0|    0|     0|        0|                   0|\n",
      "+----+----+-----+------+---------+--------------------+\n",
      "\n"
     ]
    }
   ],
   "source": [
    "apple.select([f.count(f.when(f.isnull(c), c)).alias(c) for c in apple.columns]).show()"
   ]
  },
  {
   "cell_type": "markdown",
   "metadata": {},
   "source": [
    "# Linear Regression"
   ]
  },
  {
   "cell_type": "markdown",
   "metadata": {},
   "source": [
    "We need to split our dataset to 2 datasets: train (80%) and test (20%)."
   ]
  },
  {
   "cell_type": "code",
   "execution_count": 17,
   "metadata": {},
   "outputs": [],
   "source": [
    "trainDF, testDF = apple.randomSplit([.8, .2], seed=42)"
   ]
  },
  {
   "cell_type": "markdown",
   "metadata": {},
   "source": [
    "## Creation of the VectorAssembler"
   ]
  },
  {
   "cell_type": "code",
   "execution_count": 18,
   "metadata": {},
   "outputs": [
    {
     "name": "stderr",
     "output_type": "stream",
     "text": [
      "22/06/20 14:57:42 WARN WindowExec: No Partition Defined for Window operation! Moving all data to a single partition, this can cause serious performance degradation.\n",
      "22/06/20 14:57:42 WARN WindowExec: No Partition Defined for Window operation! Moving all data to a single partition, this can cause serious performance degradation.\n",
      "22/06/20 14:57:42 WARN WindowExec: No Partition Defined for Window operation! Moving all data to a single partition, this can cause serious performance degradation.\n"
     ]
    },
    {
     "name": "stdout",
     "output_type": "stream",
     "text": [
      "+--------------------+\n",
      "|            features|\n",
      "+--------------------+\n",
      "|[42.9720001220703...|\n",
      "|[42.9500007629394...|\n",
      "|[45.3860015869140...|\n",
      "|[45.7939987182617...|\n",
      "|[46.4000015258789...|\n",
      "|[45.8120002746582...|\n",
      "|[47.3400001525878...|\n",
      "|[47.3300018310546...|\n",
      "|[49.4500007629394...|\n",
      "|[49.0919990539550...|\n",
      "+--------------------+\n",
      "only showing top 10 rows\n",
      "\n"
     ]
    }
   ],
   "source": [
    "vecAssembler = VectorAssembler(inputCols=['Open', 'Close', 'Volume', 'Adj Close'], outputCol=\"features\")\n",
    "\n",
    "vecTrainDF = vecAssembler.transform(trainDF)\n",
    "\n",
    "vecTrainDF.select(\"features\").show(10)"
   ]
  },
  {
   "cell_type": "code",
   "execution_count": 19,
   "metadata": {},
   "outputs": [
    {
     "name": "stderr",
     "output_type": "stream",
     "text": [
      "22/06/20 14:57:42 WARN WindowExec: No Partition Defined for Window operation! Moving all data to a single partition, this can cause serious performance degradation.\n",
      "22/06/20 14:57:42 WARN WindowExec: No Partition Defined for Window operation! Moving all data to a single partition, this can cause serious performance degradation.\n",
      "22/06/20 14:57:42 WARN WindowExec: No Partition Defined for Window operation! Moving all data to a single partition, this can cause serious performance degradation.\n",
      "22/06/20 14:57:43 WARN WindowExec: No Partition Defined for Window operation! Moving all data to a single partition, this can cause serious performance degradation.\n",
      "22/06/20 14:57:43 WARN WindowExec: No Partition Defined for Window operation! Moving all data to a single partition, this can cause serious performance degradation.\n",
      "22/06/20 14:57:43 WARN WindowExec: No Partition Defined for Window operation! Moving all data to a single partition, this can cause serious performance degradation.\n",
      "22/06/20 14:57:43 WARN Instrumentation: [4e204de8] regParam is zero, which might cause numerical instability and overfitting.\n",
      "22/06/20 14:57:43 WARN Instrumentation: [4e204de8] Cholesky solver failed due to singular covariance matrix. Retrying with Quasi-Newton solver.\n",
      "22/06/20 14:57:43 WARN WindowExec: No Partition Defined for Window operation! Moving all data to a single partition, this can cause serious performance degradation.\n",
      "22/06/20 14:57:43 WARN WindowExec: No Partition Defined for Window operation! Moving all data to a single partition, this can cause serious performance degradation.\n",
      "22/06/20 14:57:43 WARN WindowExec: No Partition Defined for Window operation! Moving all data to a single partition, this can cause serious performance degradation.\n"
     ]
    }
   ],
   "source": [
    "from pyspark.ml.regression import LinearRegression\n",
    "\n",
    "lr = LinearRegression(featuresCol=\"features\", labelCol=\"Prediction Adj Close\")\n",
    "lrModel = lr.fit(vecTrainDF)"
   ]
  },
  {
   "cell_type": "markdown",
   "metadata": {},
   "source": [
    "## Inspect the model"
   ]
  },
  {
   "cell_type": "code",
   "execution_count": 20,
   "metadata": {},
   "outputs": [
    {
     "name": "stdout",
     "output_type": "stream",
     "text": [
      "The coefficient for Open is -0.050785793917411164\n",
      "The coefficient for Close is 0.5301098096178442\n",
      "The coefficient for Volume is -2.692036739690856e-09\n",
      "The coefficient for Adj Close is 0.5301098096178442\n",
      "The intercept value of the model is -0.2656314043805144\n"
     ]
    }
   ],
   "source": [
    "for c, name in zip(lrModel.coefficients, ['Open', 'Close', 'Volume', 'Adj Close']):\n",
    "    print(f\"The coefficient for {name} is {c}\")\n",
    "\n",
    "print(f\"The intercept value of the model is {lrModel.intercept}\")"
   ]
  },
  {
   "cell_type": "markdown",
   "metadata": {},
   "source": [
    "Let's take a look at the Root Mean Square Error"
   ]
  },
  {
   "cell_type": "code",
   "execution_count": 21,
   "metadata": {},
   "outputs": [
    {
     "name": "stdout",
     "output_type": "stream",
     "text": [
      "The Root Mean Square Error is  6.926493437023043\n"
     ]
    }
   ],
   "source": [
    "print(\"The Root Mean Square Error is \", lrModel.summary.rootMeanSquaredError)"
   ]
  },
  {
   "cell_type": "markdown",
   "metadata": {},
   "source": [
    "## Pipeline"
   ]
  },
  {
   "cell_type": "code",
   "execution_count": 22,
   "metadata": {},
   "outputs": [
    {
     "name": "stderr",
     "output_type": "stream",
     "text": [
      "22/06/20 14:57:44 WARN WindowExec: No Partition Defined for Window operation! Moving all data to a single partition, this can cause serious performance degradation.\n",
      "22/06/20 14:57:44 WARN WindowExec: No Partition Defined for Window operation! Moving all data to a single partition, this can cause serious performance degradation.\n",
      "22/06/20 14:57:45 WARN WindowExec: No Partition Defined for Window operation! Moving all data to a single partition, this can cause serious performance degradation.\n",
      "22/06/20 14:57:45 WARN WindowExec: No Partition Defined for Window operation! Moving all data to a single partition, this can cause serious performance degradation.\n",
      "22/06/20 14:57:45 WARN WindowExec: No Partition Defined for Window operation! Moving all data to a single partition, this can cause serious performance degradation.\n",
      "22/06/20 14:57:45 WARN WindowExec: No Partition Defined for Window operation! Moving all data to a single partition, this can cause serious performance degradation.\n",
      "22/06/20 14:57:45 WARN Instrumentation: [4c175489] regParam is zero, which might cause numerical instability and overfitting.\n",
      "22/06/20 14:57:45 WARN Instrumentation: [4c175489] Cholesky solver failed due to singular covariance matrix. Retrying with Quasi-Newton solver.\n",
      "22/06/20 14:57:45 WARN WindowExec: No Partition Defined for Window operation! Moving all data to a single partition, this can cause serious performance degradation.\n",
      "22/06/20 14:57:45 WARN WindowExec: No Partition Defined for Window operation! Moving all data to a single partition, this can cause serious performance degradation.\n",
      "22/06/20 14:57:45 WARN WindowExec: No Partition Defined for Window operation! Moving all data to a single partition, this can cause serious performance degradation.\n"
     ]
    }
   ],
   "source": [
    "from pyspark.ml import Pipeline\n",
    "\n",
    "pipeline = Pipeline(stages=[vecAssembler, lr])\n",
    "pipelineModel = pipeline.fit(trainDF)"
   ]
  },
  {
   "cell_type": "code",
   "execution_count": 23,
   "metadata": {},
   "outputs": [
    {
     "name": "stderr",
     "output_type": "stream",
     "text": [
      "22/06/20 14:57:46 WARN WindowExec: No Partition Defined for Window operation! Moving all data to a single partition, this can cause serious performance degradation.\n",
      "22/06/20 14:57:46 WARN WindowExec: No Partition Defined for Window operation! Moving all data to a single partition, this can cause serious performance degradation.\n",
      "22/06/20 14:57:46 WARN WindowExec: No Partition Defined for Window operation! Moving all data to a single partition, this can cause serious performance degradation.\n"
     ]
    },
    {
     "name": "stdout",
     "output_type": "stream",
     "text": [
      "+-------------------+------+------+---------+--------------------+------------------+\n",
      "|               Date|  Open| Close|Adj Close|Prediction Adj Close|        prediction|\n",
      "+-------------------+------+------+---------+--------------------+------------------+\n",
      "|2017-01-05 00:00:00|45.284| 45.35|    45.35|              45.802|45.435970230316826|\n",
      "|2017-01-11 00:00:00|45.814|45.946|   45.946|              45.918| 46.07137755574065|\n",
      "|2017-01-13 00:00:00|  46.0| 47.55|    47.55|              47.116|47.729651261917496|\n",
      "|2017-01-23 00:00:00| 49.17|49.784|   49.784|              50.922|49.934905361855755|\n",
      "|2017-01-31 00:00:00|49.848|50.386|   50.386|              49.848| 50.56762231728801|\n",
      "|2017-02-06 00:00:00|  50.2|51.554|   51.554|              51.496|51.795532953819276|\n",
      "|2017-02-14 00:00:00|55.806|56.196|   56.196|              55.952| 56.38144966798079|\n",
      "|2017-02-23 00:00:00|  52.8|51.198|   51.198|                51.4| 51.13324342293169|\n",
      "|2017-03-09 00:00:00|49.526| 48.98|    48.98|              48.738| 49.09649169068285|\n",
      "|2017-03-10 00:00:00|49.242|48.738|   48.738|              49.234|48.865284243044016|\n",
      "+-------------------+------+------+---------+--------------------+------------------+\n",
      "only showing top 10 rows\n",
      "\n"
     ]
    }
   ],
   "source": [
    "predDF = pipelineModel.transform(testDF)\n",
    "\n",
    "predDF.select(\"Date\", \"Open\", \"Close\", \"Adj Close\", \"Prediction Adj Close\", \"prediction\").show(10)"
   ]
  },
  {
   "cell_type": "markdown",
   "metadata": {},
   "source": [
    "\n",
    "# Baseline Model"
   ]
  },
  {
   "cell_type": "code",
   "execution_count": 24,
   "metadata": {},
   "outputs": [
    {
     "name": "stderr",
     "output_type": "stream",
     "text": [
      "22/06/20 14:57:53 WARN WindowExec: No Partition Defined for Window operation! Moving all data to a single partition, this can cause serious performance degradation.\n",
      "22/06/20 14:57:53 WARN WindowExec: No Partition Defined for Window operation! Moving all data to a single partition, this can cause serious performance degradation.\n"
     ]
    },
    {
     "name": "stdout",
     "output_type": "stream",
     "text": [
      "107.79907364943296\n",
      "The RMSE for predicting the average prediction adj close is: 101.55\n"
     ]
    },
    {
     "name": "stderr",
     "output_type": "stream",
     "text": [
      "22/06/20 14:57:54 WARN WindowExec: No Partition Defined for Window operation! Moving all data to a single partition, this can cause serious performance degradation.\n",
      "22/06/20 14:57:54 WARN WindowExec: No Partition Defined for Window operation! Moving all data to a single partition, this can cause serious performance degradation.\n",
      "22/06/20 14:57:54 WARN WindowExec: No Partition Defined for Window operation! Moving all data to a single partition, this can cause serious performance degradation.\n"
     ]
    }
   ],
   "source": [
    "from pyspark.ml.evaluation import RegressionEvaluator\n",
    "\n",
    "avgAdjClose = trainDF.select(f.avg(\"Prediction Adj Close\")).first()[0]\n",
    "print(avgAdjClose)\n",
    "predDF = testDF.withColumn(\"avgPrediction\", f.lit(avgAdjClose))\n",
    "\n",
    "regressionMeanEvaluator = RegressionEvaluator(predictionCol=\"avgPrediction\", labelCol=\"Prediction Adj Close\", metricName=\"rmse\")\n",
    "\n",
    "print(f\"The RMSE for predicting the average prediction adj close is: {regressionMeanEvaluator.evaluate(predDF):.2f}\")"
   ]
  }
 ],
 "metadata": {
  "kernelspec": {
   "display_name": "Python 3.10.5 64-bit",
   "language": "python",
   "name": "python3"
  },
  "language_info": {
   "codemirror_mode": {
    "name": "ipython",
    "version": 3
   },
   "file_extension": ".py",
   "mimetype": "text/x-python",
   "name": "python",
   "nbconvert_exporter": "python",
   "pygments_lexer": "ipython3",
   "version": "3.10.5"
  },
  "orig_nbformat": 4,
  "vscode": {
   "interpreter": {
    "hash": "e7370f93d1d0cde622a1f8e1c04877d8463912d04d973331ad4851f04de6915a"
   }
  }
 },
 "nbformat": 4,
 "nbformat_minor": 2
}
